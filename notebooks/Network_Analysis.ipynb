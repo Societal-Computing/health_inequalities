{
 "cells": [
  {
   "cell_type": "code",
   "execution_count": 1,
   "id": "6eb50f50-b0ab-4b04-91c5-eef3b04a5c06",
   "metadata": {},
   "outputs": [],
   "source": [
    "%matplotlib inline\n",
    "import pandas as pd\n",
    "import numpy as np\n",
    "import networkx as nx\n",
    "import matplotlib.pyplot as plt"
   ]
  },
  {
   "cell_type": "code",
   "execution_count": 2,
   "id": "1c312dab-97c4-42ac-b415-176497fd441b",
   "metadata": {},
   "outputs": [],
   "source": [
    "raw_sci = pd.read_csv(\"../../external_dataset/Meta_sci_data/gadm1_nuts3_counties-gadm1_nuts3_counties - FB Social Connectedness Index - October 2021.tsv\", delimiter='\\t')"
   ]
  },
  {
   "cell_type": "code",
   "execution_count": 28,
   "id": "f354b573-9285-46be-88cd-f28e2b572ef6",
   "metadata": {},
   "outputs": [],
   "source": [
    "raw_sci = raw_sci[raw_sci.scaled_sci > 1]"
   ]
  },
  {
   "cell_type": "code",
   "execution_count": 7,
   "id": "26667b72-f8b7-4c38-8eff-0ea9e4bec085",
   "metadata": {},
   "outputs": [
    {
     "data": {
      "text/plain": [
       "63824121"
      ]
     },
     "execution_count": 7,
     "metadata": {},
     "output_type": "execute_result"
    }
   ],
   "source": [
    "len(raw_sci)"
   ]
  },
  {
   "cell_type": "code",
   "execution_count": 29,
   "id": "8d6fd773-0a76-4963-81d7-2ad7e39fe595",
   "metadata": {},
   "outputs": [
    {
     "data": {
      "text/plain": [
       "53712381"
      ]
     },
     "execution_count": 29,
     "metadata": {},
     "output_type": "execute_result"
    }
   ],
   "source": [
    "len(raw_sci)"
   ]
  },
  {
   "cell_type": "code",
   "execution_count": 30,
   "id": "3e446226-a989-4b2f-a7de-3a8a106efd54",
   "metadata": {},
   "outputs": [],
   "source": [
    "not_weighted_G = nx.from_pandas_edgelist(raw_sci, \"user_loc\", \"fr_loc\")"
   ]
  },
  {
   "cell_type": "code",
   "execution_count": 31,
   "id": "3b1a5149-4ffc-4499-b549-7c18cd67de92",
   "metadata": {},
   "outputs": [
    {
     "data": {
      "text/plain": [
       "26860185"
      ]
     },
     "execution_count": 31,
     "metadata": {},
     "output_type": "execute_result"
    }
   ],
   "source": [
    "not_weighted_G.number_of_edges()"
   ]
  },
  {
   "cell_type": "code",
   "execution_count": 32,
   "id": "48071333-ab67-4fe9-9250-3a0501c9bae9",
   "metadata": {},
   "outputs": [
    {
     "data": {
      "text/plain": [
       "7989"
      ]
     },
     "execution_count": 32,
     "metadata": {},
     "output_type": "execute_result"
    }
   ],
   "source": [
    "not_weighted_G.number_of_nodes()"
   ]
  },
  {
   "cell_type": "code",
   "execution_count": 33,
   "id": "f714f502-92d6-4815-ab72-a9f8a8aebc8d",
   "metadata": {},
   "outputs": [],
   "source": [
    "degree_centrality = nx.centrality.degree_centrality(not_weighted_G)"
   ]
  },
  {
   "cell_type": "code",
   "execution_count": 34,
   "id": "e9bf47c5-c38b-4046-8bdb-be18efb2d2db",
   "metadata": {},
   "outputs": [],
   "source": [
    "degree_df = pd.DataFrame.from_dict({\"user_loc\":degree_centrality.keys(), \"degree\": degree_centrality.values()})"
   ]
  },
  {
   "cell_type": "code",
   "execution_count": 35,
   "id": "875718ab-9f3b-4ea3-8bd5-f2a2f114f684",
   "metadata": {},
   "outputs": [
    {
     "data": {
      "text/html": [
       "<div>\n",
       "<style scoped>\n",
       "    .dataframe tbody tr th:only-of-type {\n",
       "        vertical-align: middle;\n",
       "    }\n",
       "\n",
       "    .dataframe tbody tr th {\n",
       "        vertical-align: top;\n",
       "    }\n",
       "\n",
       "    .dataframe thead th {\n",
       "        text-align: right;\n",
       "    }\n",
       "</style>\n",
       "<table border=\"1\" class=\"dataframe\">\n",
       "  <thead>\n",
       "    <tr style=\"text-align: right;\">\n",
       "      <th></th>\n",
       "      <th>user_loc</th>\n",
       "      <th>degree</th>\n",
       "    </tr>\n",
       "  </thead>\n",
       "  <tbody>\n",
       "    <tr>\n",
       "      <th>0</th>\n",
       "      <td>ABW</td>\n",
       "      <td>0.952679</td>\n",
       "    </tr>\n",
       "    <tr>\n",
       "      <th>1</th>\n",
       "      <td>AGO1</td>\n",
       "      <td>0.705934</td>\n",
       "    </tr>\n",
       "    <tr>\n",
       "      <th>2</th>\n",
       "      <td>AGO10</td>\n",
       "      <td>0.930396</td>\n",
       "    </tr>\n",
       "    <tr>\n",
       "      <th>3</th>\n",
       "      <td>AGO11</td>\n",
       "      <td>0.990361</td>\n",
       "    </tr>\n",
       "    <tr>\n",
       "      <th>4</th>\n",
       "      <td>AGO12</td>\n",
       "      <td>0.800451</td>\n",
       "    </tr>\n",
       "  </tbody>\n",
       "</table>\n",
       "</div>"
      ],
      "text/plain": [
       "  user_loc    degree\n",
       "0      ABW  0.952679\n",
       "1     AGO1  0.705934\n",
       "2    AGO10  0.930396\n",
       "3    AGO11  0.990361\n",
       "4    AGO12  0.800451"
      ]
     },
     "execution_count": 35,
     "metadata": {},
     "output_type": "execute_result"
    }
   ],
   "source": [
    "degree_df.head()"
   ]
  },
  {
   "cell_type": "code",
   "execution_count": 36,
   "id": "4ceac3c4-0c3d-4b10-89ff-7e59b8dc99cb",
   "metadata": {},
   "outputs": [],
   "source": [
    "betweenness_centrality = nx.centrality.betweenness_centrality(not_weighted_G)\n",
    "betweennesss_df = pd.DataFrame.from_dict({\"user_loc\":betweenness_centrality.keys(), \"betweenness\": betweenness_centrality.values()})"
   ]
  },
  {
   "cell_type": "code",
   "execution_count": 37,
   "id": "46b1e72f-b8b0-4353-ab5b-fdf119a73cba",
   "metadata": {},
   "outputs": [
    {
     "data": {
      "text/html": [
       "<div>\n",
       "<style scoped>\n",
       "    .dataframe tbody tr th:only-of-type {\n",
       "        vertical-align: middle;\n",
       "    }\n",
       "\n",
       "    .dataframe tbody tr th {\n",
       "        vertical-align: top;\n",
       "    }\n",
       "\n",
       "    .dataframe thead th {\n",
       "        text-align: right;\n",
       "    }\n",
       "</style>\n",
       "<table border=\"1\" class=\"dataframe\">\n",
       "  <thead>\n",
       "    <tr style=\"text-align: right;\">\n",
       "      <th></th>\n",
       "      <th>user_loc</th>\n",
       "      <th>betweenness</th>\n",
       "    </tr>\n",
       "  </thead>\n",
       "  <tbody>\n",
       "    <tr>\n",
       "      <th>0</th>\n",
       "      <td>ABW</td>\n",
       "      <td>0.000026</td>\n",
       "    </tr>\n",
       "    <tr>\n",
       "      <th>1</th>\n",
       "      <td>AGO1</td>\n",
       "      <td>0.000009</td>\n",
       "    </tr>\n",
       "    <tr>\n",
       "      <th>2</th>\n",
       "      <td>AGO10</td>\n",
       "      <td>0.000031</td>\n",
       "    </tr>\n",
       "    <tr>\n",
       "      <th>3</th>\n",
       "      <td>AGO11</td>\n",
       "      <td>0.000042</td>\n",
       "    </tr>\n",
       "    <tr>\n",
       "      <th>4</th>\n",
       "      <td>AGO12</td>\n",
       "      <td>0.000017</td>\n",
       "    </tr>\n",
       "  </tbody>\n",
       "</table>\n",
       "</div>"
      ],
      "text/plain": [
       "  user_loc  betweenness\n",
       "0      ABW     0.000026\n",
       "1     AGO1     0.000009\n",
       "2    AGO10     0.000031\n",
       "3    AGO11     0.000042\n",
       "4    AGO12     0.000017"
      ]
     },
     "execution_count": 37,
     "metadata": {},
     "output_type": "execute_result"
    }
   ],
   "source": [
    "betweennesss_df.head()"
   ]
  },
  {
   "cell_type": "code",
   "execution_count": 38,
   "id": "89919d57-de69-4348-a587-cc4b0988c7e8",
   "metadata": {},
   "outputs": [],
   "source": [
    "closeness_centrality = nx.centrality.closeness_centrality(not_weighted_G)\n",
    "closeness_df = pd.DataFrame.from_dict({\"user_loc\":closeness_centrality.keys(), \"closeness\": closeness_centrality.values()})"
   ]
  },
  {
   "cell_type": "code",
   "execution_count": 39,
   "id": "13913307-ad0b-4f37-b765-f199ab6a985d",
   "metadata": {},
   "outputs": [
    {
     "data": {
      "text/html": [
       "<div>\n",
       "<style scoped>\n",
       "    .dataframe tbody tr th:only-of-type {\n",
       "        vertical-align: middle;\n",
       "    }\n",
       "\n",
       "    .dataframe tbody tr th {\n",
       "        vertical-align: top;\n",
       "    }\n",
       "\n",
       "    .dataframe thead th {\n",
       "        text-align: right;\n",
       "    }\n",
       "</style>\n",
       "<table border=\"1\" class=\"dataframe\">\n",
       "  <thead>\n",
       "    <tr style=\"text-align: right;\">\n",
       "      <th></th>\n",
       "      <th>user_loc</th>\n",
       "      <th>closeness</th>\n",
       "    </tr>\n",
       "  </thead>\n",
       "  <tbody>\n",
       "    <tr>\n",
       "      <th>0</th>\n",
       "      <td>ABW</td>\n",
       "      <td>0.954589</td>\n",
       "    </tr>\n",
       "    <tr>\n",
       "      <th>1</th>\n",
       "      <td>AGO1</td>\n",
       "      <td>0.772609</td>\n",
       "    </tr>\n",
       "    <tr>\n",
       "      <th>2</th>\n",
       "      <td>AGO10</td>\n",
       "      <td>0.934706</td>\n",
       "    </tr>\n",
       "    <tr>\n",
       "      <th>3</th>\n",
       "      <td>AGO11</td>\n",
       "      <td>0.990207</td>\n",
       "    </tr>\n",
       "    <tr>\n",
       "      <th>4</th>\n",
       "      <td>AGO12</td>\n",
       "      <td>0.833472</td>\n",
       "    </tr>\n",
       "  </tbody>\n",
       "</table>\n",
       "</div>"
      ],
      "text/plain": [
       "  user_loc  closeness\n",
       "0      ABW   0.954589\n",
       "1     AGO1   0.772609\n",
       "2    AGO10   0.934706\n",
       "3    AGO11   0.990207\n",
       "4    AGO12   0.833472"
      ]
     },
     "execution_count": 39,
     "metadata": {},
     "output_type": "execute_result"
    }
   ],
   "source": [
    "closeness_df.head()"
   ]
  },
  {
   "cell_type": "code",
   "execution_count": 42,
   "id": "443037ca-7578-43a4-b617-e5f519cea14f",
   "metadata": {},
   "outputs": [],
   "source": [
    "all_centrality_measures = degree_df.merge(betweennesss_df, on=\"user_loc\", how =\"inner\")\n",
    "all_centrality_measures = all_centrality_measures.merge(closeness_df, on=\"user_loc\", how =\"inner\")\n",
    "all_centrality_measures.to_csv(\"all_centrality_measures.csv\")"
   ]
  },
  {
   "cell_type": "code",
   "execution_count": null,
   "id": "f491fc78-8ad3-4d24-8127-dbd0fd21916e",
   "metadata": {},
   "outputs": [
    {
     "data": {
      "text/html": [
       "<div>\n",
       "<style scoped>\n",
       "    .dataframe tbody tr th:only-of-type {\n",
       "        vertical-align: middle;\n",
       "    }\n",
       "\n",
       "    .dataframe tbody tr th {\n",
       "        vertical-align: top;\n",
       "    }\n",
       "\n",
       "    .dataframe thead th {\n",
       "        text-align: right;\n",
       "    }\n",
       "</style>\n",
       "<table border=\"1\" class=\"dataframe\">\n",
       "  <thead>\n",
       "    <tr style=\"text-align: right;\">\n",
       "      <th></th>\n",
       "      <th>user_loc</th>\n",
       "      <th>degree</th>\n",
       "      <th>betweenness</th>\n",
       "      <th>closeness</th>\n",
       "    </tr>\n",
       "  </thead>\n",
       "  <tbody>\n",
       "    <tr>\n",
       "      <th>0</th>\n",
       "      <td>ABW</td>\n",
       "      <td>0.952679</td>\n",
       "      <td>0.000026</td>\n",
       "      <td>0.954589</td>\n",
       "    </tr>\n",
       "    <tr>\n",
       "      <th>1</th>\n",
       "      <td>AGO1</td>\n",
       "      <td>0.705934</td>\n",
       "      <td>0.000009</td>\n",
       "      <td>0.772609</td>\n",
       "    </tr>\n",
       "    <tr>\n",
       "      <th>2</th>\n",
       "      <td>AGO10</td>\n",
       "      <td>0.930396</td>\n",
       "      <td>0.000031</td>\n",
       "      <td>0.934706</td>\n",
       "    </tr>\n",
       "    <tr>\n",
       "      <th>3</th>\n",
       "      <td>AGO11</td>\n",
       "      <td>0.990361</td>\n",
       "      <td>0.000042</td>\n",
       "      <td>0.990207</td>\n",
       "    </tr>\n",
       "    <tr>\n",
       "      <th>4</th>\n",
       "      <td>AGO12</td>\n",
       "      <td>0.800451</td>\n",
       "      <td>0.000017</td>\n",
       "      <td>0.833472</td>\n",
       "    </tr>\n",
       "  </tbody>\n",
       "</table>\n",
       "</div>"
      ],
      "text/plain": [
       "  user_loc    degree  betweenness  closeness\n",
       "0      ABW  0.952679     0.000026   0.954589\n",
       "1     AGO1  0.705934     0.000009   0.772609\n",
       "2    AGO10  0.930396     0.000031   0.934706\n",
       "3    AGO11  0.990361     0.000042   0.990207\n",
       "4    AGO12  0.800451     0.000017   0.833472"
      ]
     },
     "execution_count": 43,
     "metadata": {},
     "output_type": "execute_result"
    }
   ],
   "source": [
    "all_centrality_measures.head()"
   ]
  },
  {
   "cell_type": "markdown",
   "id": "6511a2b2-6673-444b-9f02-76924d5493e9",
   "metadata": {},
   "source": [
    "### Weighted Graph"
   ]
  },
  {
   "cell_type": "code",
   "execution_count": 11,
   "id": "5e11da7d-3ba5-498d-9aa3-1abd5cdb3d10",
   "metadata": {},
   "outputs": [],
   "source": [
    "nodes = raw_sci.user_loc.unique().tolist()"
   ]
  },
  {
   "cell_type": "code",
   "execution_count": 24,
   "id": "d7e23de1-1f61-4337-a0c4-aef807d0676d",
   "metadata": {},
   "outputs": [],
   "source": [
    "weighted_egdes = [ (row['user_loc'], row['fr_loc'], row['scaled_sci']) for _,row in raw_sci.iterrows()]"
   ]
  },
  {
   "cell_type": "code",
   "execution_count": 25,
   "id": "a15c1284-7d31-47ef-8027-fc9ebf067824",
   "metadata": {},
   "outputs": [],
   "source": [
    "weighted_G = nx.Graph()\n",
    "weighted_G.add_nodes_from(nodes)\n",
    "weighted_G.add_weighted_edges_from(weighted_egdes)"
   ]
  },
  {
   "cell_type": "code",
   "execution_count": 26,
   "id": "33e88293-1451-4b2d-a13f-2d832e511537",
   "metadata": {},
   "outputs": [
    {
     "data": {
      "text/plain": [
       "<networkx.classes.graph.Graph at 0x7f5519ab4580>"
      ]
     },
     "execution_count": 26,
     "metadata": {},
     "output_type": "execute_result"
    }
   ],
   "source": [
    "weighted_G"
   ]
  },
  {
   "cell_type": "code",
   "execution_count": null,
   "id": "3a652381-8bc1-451a-90c1-19add51ceb24",
   "metadata": {},
   "outputs": [],
   "source": []
  }
 ],
 "metadata": {
  "kernelspec": {
   "display_name": "Python 3 (ipykernel)",
   "language": "python",
   "name": "python3"
  },
  "language_info": {
   "codemirror_mode": {
    "name": "ipython",
    "version": 3
   },
   "file_extension": ".py",
   "mimetype": "text/x-python",
   "name": "python",
   "nbconvert_exporter": "python",
   "pygments_lexer": "ipython3",
   "version": "3.10.9"
  }
 },
 "nbformat": 4,
 "nbformat_minor": 5
}
