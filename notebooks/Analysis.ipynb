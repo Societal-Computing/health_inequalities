{
 "cells": [
  {
   "cell_type": "code",
   "execution_count": 1,
   "id": "3e85c920",
   "metadata": {},
   "outputs": [],
   "source": [
    "import os\n",
    "os.chdir('../')\n",
    "import geopandas as gpd\n",
    "import pandas as pd\n",
    "import numpy as np"
   ]
  },
  {
   "cell_type": "code",
   "execution_count": 2,
   "id": "cb0375df",
   "metadata": {},
   "outputs": [],
   "source": [
    "gadm_1_v = pd.read_csv(\"combined_dataset/GADM_1_variables.csv\")\n",
    "gadm_1_geo = gpd.read_file(\"combined_dataset/GADM_1_geometries.gpkg\")\n",
    "gadm_1 = gadm_1_geo.merge(gadm_1_v, on='GID_1', how='inner')"
   ]
  },
  {
   "cell_type": "code",
   "execution_count": 3,
   "id": "cccf1e38",
   "metadata": {},
   "outputs": [
    {
     "data": {
      "text/html": [
       "<div>\n",
       "<style scoped>\n",
       "    .dataframe tbody tr th:only-of-type {\n",
       "        vertical-align: middle;\n",
       "    }\n",
       "\n",
       "    .dataframe tbody tr th {\n",
       "        vertical-align: top;\n",
       "    }\n",
       "\n",
       "    .dataframe thead th {\n",
       "        text-align: right;\n",
       "    }\n",
       "</style>\n",
       "<table border=\"1\" class=\"dataframe\">\n",
       "  <thead>\n",
       "    <tr style=\"text-align: right;\">\n",
       "      <th></th>\n",
       "      <th>GID_1</th>\n",
       "      <th>geometry</th>\n",
       "      <th>Unnamed: 0</th>\n",
       "      <th>GID_0</th>\n",
       "      <th>COUNTRY</th>\n",
       "      <th>NAME_1</th>\n",
       "      <th>VARNAME_1</th>\n",
       "      <th>NL_NAME_1</th>\n",
       "      <th>TYPE_1</th>\n",
       "      <th>ENGTYPE_1</th>\n",
       "      <th>...</th>\n",
       "      <th>evangelical presbyterian</th>\n",
       "      <th>pentecotist</th>\n",
       "      <th>baha'i</th>\n",
       "      <th>jehovah's witness</th>\n",
       "      <th>jewish</th>\n",
       "      <th>mammon</th>\n",
       "      <th>pentecostal/born again/evangelical</th>\n",
       "      <th>presbyterian</th>\n",
       "      <th>salvation army</th>\n",
       "      <th>apostolic sect</th>\n",
       "    </tr>\n",
       "  </thead>\n",
       "  <tbody>\n",
       "    <tr>\n",
       "      <th>0</th>\n",
       "      <td>SEN1</td>\n",
       "      <td>MULTIPOLYGON (((-17.46764 14.64874, -17.46764 ...</td>\n",
       "      <td>0</td>\n",
       "      <td>SEN</td>\n",
       "      <td>Senegal</td>\n",
       "      <td>Dakar</td>\n",
       "      <td>Cap Vert|Dacar</td>\n",
       "      <td>NaN</td>\n",
       "      <td>Région</td>\n",
       "      <td>Region</td>\n",
       "      <td>...</td>\n",
       "      <td>NaN</td>\n",
       "      <td>NaN</td>\n",
       "      <td>NaN</td>\n",
       "      <td>NaN</td>\n",
       "      <td>NaN</td>\n",
       "      <td>NaN</td>\n",
       "      <td>NaN</td>\n",
       "      <td>NaN</td>\n",
       "      <td>NaN</td>\n",
       "      <td>NaN</td>\n",
       "    </tr>\n",
       "    <tr>\n",
       "      <th>1</th>\n",
       "      <td>SEN2</td>\n",
       "      <td>MULTIPOLYGON (((-16.04326 14.55500, -16.04513 ...</td>\n",
       "      <td>1</td>\n",
       "      <td>SEN</td>\n",
       "      <td>Senegal</td>\n",
       "      <td>Diourbel</td>\n",
       "      <td>NaN</td>\n",
       "      <td>NaN</td>\n",
       "      <td>Région</td>\n",
       "      <td>Region</td>\n",
       "      <td>...</td>\n",
       "      <td>NaN</td>\n",
       "      <td>NaN</td>\n",
       "      <td>NaN</td>\n",
       "      <td>NaN</td>\n",
       "      <td>NaN</td>\n",
       "      <td>NaN</td>\n",
       "      <td>NaN</td>\n",
       "      <td>NaN</td>\n",
       "      <td>NaN</td>\n",
       "      <td>NaN</td>\n",
       "    </tr>\n",
       "    <tr>\n",
       "      <th>2</th>\n",
       "      <td>SEN3</td>\n",
       "      <td>MULTIPOLYGON (((-16.65347 13.64736, -16.65347 ...</td>\n",
       "      <td>2</td>\n",
       "      <td>SEN</td>\n",
       "      <td>Senegal</td>\n",
       "      <td>Fatick</td>\n",
       "      <td>NaN</td>\n",
       "      <td>NaN</td>\n",
       "      <td>Région</td>\n",
       "      <td>Region</td>\n",
       "      <td>...</td>\n",
       "      <td>NaN</td>\n",
       "      <td>NaN</td>\n",
       "      <td>NaN</td>\n",
       "      <td>NaN</td>\n",
       "      <td>NaN</td>\n",
       "      <td>NaN</td>\n",
       "      <td>NaN</td>\n",
       "      <td>NaN</td>\n",
       "      <td>NaN</td>\n",
       "      <td>NaN</td>\n",
       "    </tr>\n",
       "    <tr>\n",
       "      <th>3</th>\n",
       "      <td>SEN4</td>\n",
       "      <td>POLYGON ((-15.39492 13.75729, -15.39724 13.754...</td>\n",
       "      <td>3</td>\n",
       "      <td>SEN</td>\n",
       "      <td>Senegal</td>\n",
       "      <td>Kaffrine</td>\n",
       "      <td>NaN</td>\n",
       "      <td>NaN</td>\n",
       "      <td>Région</td>\n",
       "      <td>Region</td>\n",
       "      <td>...</td>\n",
       "      <td>NaN</td>\n",
       "      <td>NaN</td>\n",
       "      <td>NaN</td>\n",
       "      <td>NaN</td>\n",
       "      <td>NaN</td>\n",
       "      <td>NaN</td>\n",
       "      <td>NaN</td>\n",
       "      <td>NaN</td>\n",
       "      <td>NaN</td>\n",
       "      <td>NaN</td>\n",
       "    </tr>\n",
       "    <tr>\n",
       "      <th>4</th>\n",
       "      <td>SEN5</td>\n",
       "      <td>POLYGON ((-15.99889 13.59169, -15.99910 13.591...</td>\n",
       "      <td>4</td>\n",
       "      <td>SEN</td>\n",
       "      <td>Senegal</td>\n",
       "      <td>Kaolack</td>\n",
       "      <td>NaN</td>\n",
       "      <td>NaN</td>\n",
       "      <td>Région</td>\n",
       "      <td>Region</td>\n",
       "      <td>...</td>\n",
       "      <td>NaN</td>\n",
       "      <td>NaN</td>\n",
       "      <td>NaN</td>\n",
       "      <td>NaN</td>\n",
       "      <td>NaN</td>\n",
       "      <td>NaN</td>\n",
       "      <td>NaN</td>\n",
       "      <td>NaN</td>\n",
       "      <td>NaN</td>\n",
       "      <td>NaN</td>\n",
       "    </tr>\n",
       "  </tbody>\n",
       "</table>\n",
       "<p>5 rows × 2027 columns</p>\n",
       "</div>"
      ],
      "text/plain": [
       "  GID_1                                           geometry  Unnamed: 0 GID_0  \\\n",
       "0  SEN1  MULTIPOLYGON (((-17.46764 14.64874, -17.46764 ...           0   SEN   \n",
       "1  SEN2  MULTIPOLYGON (((-16.04326 14.55500, -16.04513 ...           1   SEN   \n",
       "2  SEN3  MULTIPOLYGON (((-16.65347 13.64736, -16.65347 ...           2   SEN   \n",
       "3  SEN4  POLYGON ((-15.39492 13.75729, -15.39724 13.754...           3   SEN   \n",
       "4  SEN5  POLYGON ((-15.99889 13.59169, -15.99910 13.591...           4   SEN   \n",
       "\n",
       "   COUNTRY    NAME_1       VARNAME_1  NL_NAME_1  TYPE_1 ENGTYPE_1  ...  \\\n",
       "0  Senegal     Dakar  Cap Vert|Dacar        NaN  Région    Region  ...   \n",
       "1  Senegal  Diourbel             NaN        NaN  Région    Region  ...   \n",
       "2  Senegal    Fatick             NaN        NaN  Région    Region  ...   \n",
       "3  Senegal  Kaffrine             NaN        NaN  Région    Region  ...   \n",
       "4  Senegal   Kaolack             NaN        NaN  Région    Region  ...   \n",
       "\n",
       "  evangelical presbyterian pentecotist baha'i jehovah's witness  jewish  \\\n",
       "0                      NaN         NaN    NaN               NaN     NaN   \n",
       "1                      NaN         NaN    NaN               NaN     NaN   \n",
       "2                      NaN         NaN    NaN               NaN     NaN   \n",
       "3                      NaN         NaN    NaN               NaN     NaN   \n",
       "4                      NaN         NaN    NaN               NaN     NaN   \n",
       "\n",
       "  mammon pentecostal/born again/evangelical  presbyterian  salvation army  \\\n",
       "0    NaN                                NaN           NaN             NaN   \n",
       "1    NaN                                NaN           NaN             NaN   \n",
       "2    NaN                                NaN           NaN             NaN   \n",
       "3    NaN                                NaN           NaN             NaN   \n",
       "4    NaN                                NaN           NaN             NaN   \n",
       "\n",
       "   apostolic sect  \n",
       "0             NaN  \n",
       "1             NaN  \n",
       "2             NaN  \n",
       "3             NaN  \n",
       "4             NaN  \n",
       "\n",
       "[5 rows x 2027 columns]"
      ]
     },
     "execution_count": 3,
     "metadata": {},
     "output_type": "execute_result"
    }
   ],
   "source": [
    "gadm_1.head()"
   ]
  },
  {
   "cell_type": "code",
   "execution_count": 4,
   "id": "abf6e55d",
   "metadata": {},
   "outputs": [],
   "source": [
    "health_ind = pd.read_csv('external_dataset/dhs_health.csv')"
   ]
  },
  {
   "cell_type": "code",
   "execution_count": 10,
   "id": "89351049",
   "metadata": {},
   "outputs": [
    {
     "data": {
      "text/plain": [
       "GID_1                                 False\n",
       "rel_major                              True\n",
       "rel_minor                              True\n",
       "lang_major                             True\n",
       "lang_minor                             True\n",
       "                                      ...  \n",
       "mammon                                 True\n",
       "pentecostal/born again/evangelical     True\n",
       "presbyterian                           True\n",
       "salvation army                         True\n",
       "apostolic sect                         True\n",
       "Length: 231, dtype: bool"
      ]
     },
     "execution_count": 10,
     "metadata": {},
     "output_type": "execute_result"
    }
   ],
   "source": [
    "health_ind.isna().any()"
   ]
  },
  {
   "cell_type": "code",
   "execution_count": 18,
   "id": "55f5c6c9",
   "metadata": {},
   "outputs": [
    {
     "data": {
      "text/plain": [
       "(array([11,  6, 22, 40, 51, 65, 71, 89, 73, 33]),\n",
       " array([0. , 0.1, 0.2, 0.3, 0.4, 0.5, 0.6, 0.7, 0.8, 0.9, 1. ]))"
      ]
     },
     "execution_count": 18,
     "metadata": {},
     "output_type": "execute_result"
    }
   ],
   "source": [
    "health_ind.plot .ch_allvac_either_yes))"
   ]
  },
  {
   "cell_type": "code",
   "execution_count": 16,
   "id": "3c2c3c9b",
   "metadata": {},
   "outputs": [
    {
     "data": {
      "text/plain": [
       "0      0.222222\n",
       "1      0.151261\n",
       "2      0.430380\n",
       "3      0.136752\n",
       "4      0.129412\n",
       "         ...   \n",
       "456    0.769231\n",
       "457    0.764706\n",
       "458    0.568182\n",
       "459    0.897436\n",
       "460    0.875000\n",
       "Name: ch_allvac_either_no, Length: 461, dtype: float64"
      ]
     },
     "execution_count": 16,
     "metadata": {},
     "output_type": "execute_result"
    }
   ],
   "source": [
    "health_ind.ch_allvac_either_no"
   ]
  },
  {
   "cell_type": "code",
   "execution_count": null,
   "id": "24ad3563",
   "metadata": {},
   "outputs": [],
   "source": []
  }
 ],
 "metadata": {
  "kernelspec": {
   "display_name": "Python 3 (ipykernel)",
   "language": "python",
   "name": "python3"
  },
  "language_info": {
   "codemirror_mode": {
    "name": "ipython",
    "version": 3
   },
   "file_extension": ".py",
   "mimetype": "text/x-python",
   "name": "python",
   "nbconvert_exporter": "python",
   "pygments_lexer": "ipython3",
   "version": "3.9.12"
  }
 },
 "nbformat": 4,
 "nbformat_minor": 5
}
